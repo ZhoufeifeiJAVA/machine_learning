{
 "cells": [
  {
   "cell_type": "code",
   "execution_count": 2,
   "metadata": {
    "collapsed": true
   },
   "outputs": [],
   "source": [
    "import os\n",
    "import numpy as np\n",
    "import pickle\n",
    "%load_ext autoreload\n",
    "%autoreload 2"
   ]
  },
  {
   "cell_type": "code",
   "execution_count": 3,
   "metadata": {},
   "outputs": [
    {
     "name": "stdout",
     "output_type": "stream",
     "text": [
      "C:\\Tools\\seafile\\files\\Seafile\\项目\\手势识别项目\\machine_learning\\ads\\ctr\\ogeek\n"
     ]
    }
   ],
   "source": [
    "os.chdir('C:\\\\Tools\\\\seafile\\\\files\\\\Seafile\\\\项目\\\\手势识别项目\\\\machine_learning\\\\ads\\\\ctr\\\\ogeek')\n",
    "print(os.path.abspath(os.curdir))"
   ]
  },
  {
   "cell_type": "markdown",
   "metadata": {},
   "source": [
    "# check train_ctr.pickle file"
   ]
  },
  {
   "cell_type": "code",
   "execution_count": 4,
   "metadata": {},
   "outputs": [],
   "source": [
    "train_ctr = pickle.load(open('data/train_ctr.pickle', 'rb'))"
   ]
  },
  {
   "cell_type": "code",
   "execution_count": 6,
   "metadata": {
    "collapsed": true
   },
   "outputs": [
    {
     "name": "stdout",
     "output_type": "stream",
     "text": [
      "length of train_ctr is 2000000\ntrain_ctr example:\ntrain_ctr[500888] is {'search': '新浪微博', 'tile': ['新浪微博'], 'category': '百科', 'ctr': 0.038461538461538464, 'search_predict': {'新浪微博网页版登陆': 0.007, '新浪微博登录': 0.097, '新浪微博网页版': 0.095, '新浪微博登陆': 0.016, '新浪微博搜索': 0.006, '新浪微博登录首页': 0.008, '新浪微博登录网页版': 0.011, '新浪微博网页登录': 0.006, '新浪微博网页版手机': 0.007, '新浪微博下载': 0.006}}\ntrain_ctr[1689923] is {'search': '第二课堂', 'tile': ['小学生第二课堂'], 'category': '百科', 'ctr': 0.3333333333333333, 'search_predict': {'第二课堂www.2一classcom': 0.047, '第二课堂登陆': 0.017, '第二课堂登录平台': 0.015, '第二课堂登录': 0.077, '第二课堂禁毒平台': 0.016, '第二课堂注册': 0.07, '第二课堂禁毒网': 0.087, '第二课堂首页': 0.015, '第二课堂官网': 0.036, '第二课堂禁毒教育平台': 0.046}}\ntrain_ctr[405292] is {'search': '桑', 'tile': ['桑叶泡水喝的功效'], 'category': '经验', 'ctr': 0.4146341463414634, 'search_predict': {'桑叶的作用与功效': 0.015, '桑葚的功效与作用': 0.04, '桑葚干': 0.01, '桑塔纳': 0.074, '桑叶茶的功效与作用': 0.011, '桑叶泡水喝的功效': 0.01, '桑塔纳的价格': 0.015, '桑叶': 0.016, '桑葚': 0.045}}\ntrain_ctr[204119] is {'search': '教师', 'tile': ['中国教师资格网'], 'category': '网站', 'ctr': 0.45698924731182794, 'search_predict': {'教师节贺卡制作': 0.018, '教师节': 0.038, '教师节祝福语': 0.096, '教师资格证报名': 0.017, '教师节图片': 0.018, '教师资格证报考条件': 0.013, '教师节手抄报': 0.076, '教师节贺卡': 0.095, '教师资格证': 0.017, '教师节礼物': 0.016}}\ntrain_ctr[259020] is {'search': '蔡', 'tile': ['蔡徐坤'], 'category': '百科', 'ctr': 0.9939393939393939, 'search_predict': {'蔡徐坤': 0.306, '蔡少芬': 0.008, '蔡英文': 0.007, '蔡徐坤照片': 0.012, '蔡徐坤图片': 0.038, '蔡徐坤女朋友': 0.007, '蔡徐坤微博': 0.025, '蔡维泽': 0.01, '蔡依林': 0.014, '蔡萝莉': 0.027}}\ntrain_ctr[1054736] is {'search': '瞻', 'tile': ['瞻'], 'category': '百科', 'ctr': 1.0, 'search_predict': {'瞻前顾后的意思': 0.065, '瞻仰的意思': 0.054, '瞻园': 0.061, '瞻前顾后': 0.101, '瞻前顾后打一生肖': 0.016, '瞻组词': 0.118, '瞻的读音': 0.013, '瞻园旅游': 0.043, '瞻仰': 0.052, '瞻怎么读': 0.096}}\ntrain_ctr[234593] is {'search': '京东物流', 'tile': ['京东物流'], 'category': '应用', 'ctr': 0.7, 'search_predict': {'京东物流查询单号查询': 0.022, '京东物流快吗': 0.006, '京东物流官网': 0.022, '京东物流订单号查询': 0.009, '京东物流加盟': 0.005, '京东物流单号查询': 0.008, '京东物流查询单号': 0.168, '京东物流查询': 0.242, '京东物流招聘': 0.017, '京东物流电话': 0.023}}\ntrain_ctr[1547106] is {'search': '中彩', 'tile': ['中彩网'], 'category': '百科', 'ctr': 0.2641509433962264, 'search_predict': {'中彩堂xⅹy.xcc原创资料': 0.022, '中彩堂': 0.068, '中彩网3d': 0.017, '中彩网3d走势图': 0.011, '中彩堂xyx cc': 0.013, '中彩网双色球走势图': 0.04, '中彩网': 0.304, '中彩堂zzyz.cczzyx.usr': 0.036, '中彩网双色球': 0.031}}\ntrain_ctr[870333] is {'search': '罩杯', 'tile': ['F罩杯'], 'category': '百科', 'ctr': 0.2, 'search_predict': {'罩杯大小顺序依次图片': 0.04, '罩杯尺寸对照表': 0.042, '罩杯abc怎么分大小': 0.022, '罩杯尺寸对照表abcd': 0.113, '罩杯怎么算 文胸': 0.027, '罩杯怎么算abcd': 0.04, '罩杯标准尺码对照表': 0.037, '罩杯怎么算': 0.125}}\ntrain_ctr[151345] is {'search': '新百伦', 'tile': ['11个月的宝宝勿吃新百伦盒子里的干燥剂%2C'], 'category': '健康', 'ctr': 0.0, 'search_predict': {'新百伦领跑是冒牌的吗': 0.012, '新百伦和纽巴伦的区别': 0.024, '新百伦官网旗舰店': 0.008, '新百伦领跑': 0.067, '新百伦官网': 0.132, '新百伦和纽百伦区别': 0.012, '新百伦标志': 0.042, '新百伦999': 0.011, '新百伦怎么辨别真假': 0.008, '新百伦574': 0.016}}\n"
     ]
    }
   ],
   "source": [
    "print('length of train_ctr is %d' % len(train_ctr))\n",
    "print('train_ctr example:')\n",
    "for i in range(10):\n",
    "    rand_idx = np.random.randint(0, len(train_ctr))\n",
    "    print('train_ctr[%d] is' % rand_idx, train_ctr[rand_idx])"
   ]
  },
  {
   "cell_type": "code",
   "execution_count": null,
   "metadata": {},
   "outputs": [],
   "source": []
  }
 ],
 "metadata": {
  "kernelspec": {
   "display_name": "Python 2",
   "language": "python",
   "name": "python2"
  },
  "language_info": {
   "codemirror_mode": {
    "name": "ipython",
    "version": 2
   },
   "file_extension": ".py",
   "mimetype": "text/x-python",
   "name": "python",
   "nbconvert_exporter": "python",
   "pygments_lexer": "ipython2",
   "version": "2.7.6"
  }
 },
 "nbformat": 4,
 "nbformat_minor": 0
}
